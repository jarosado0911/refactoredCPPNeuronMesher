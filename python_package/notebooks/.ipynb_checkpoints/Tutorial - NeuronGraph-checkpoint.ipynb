{
 "cells": [
  {
   "cell_type": "code",
   "execution_count": 2,
   "id": "4b18f442",
   "metadata": {},
   "outputs": [],
   "source": [
    "import sys\n",
    "import os\n",
    "# Add the absolute path one level up\n",
    "sys.path.append(os.path.abspath(\"..\"))\n",
    "import neurongraph as ng"
   ]
  },
  {
   "cell_type": "code",
   "execution_count": 14,
   "id": "03e0a9de",
   "metadata": {},
   "outputs": [
    {
     "name": "stderr",
     "output_type": "stream",
     "text": [
      "/tmp/ipykernel_26037/2158896411.py:35: DeprecationWarning: `remove_duplicate_faces` is deprecated and will be removed in March 2024: replace with `mesh.update_faces(mesh.unique_faces())`\n",
      "  merged.remove_duplicate_faces()\n"
     ]
    },
    {
     "data": {
      "application/vnd.jupyter.widget-view+json": {
       "model_id": "754ce7c5462b41819a053ce0ea56bde2",
       "version_major": 2,
       "version_minor": 0
      },
      "text/plain": [
       "Renderer(camera=PerspectiveCamera(fov=45.0, position=(1287.9712889097266, 1515.0358893542057, 1026.00094392707…"
      ]
     },
     "metadata": {},
     "output_type": "display_data"
    }
   ],
   "source": [
    "import trimesh\n",
    "import numpy as np\n",
    "from IPython.display import display\n",
    "from pythreejs import *\n",
    "\n",
    "# Load neuron\n",
    "graph = ng.NeuronGraph()\n",
    "graph.readFromFile(\"../output/test/reassembledcubic.swc\")\n",
    "after = graph.removeSomaSegment()\n",
    "graph.setNodes(after)\n",
    "nodes = graph.getNodes()\n",
    "positions = {nid: (n.x, n.y, n.z) for nid, n in nodes.items()}\n",
    "edges = [(n.id, n.pid) for n in nodes.values() if n.pid != -1]\n",
    "\n",
    "# Build and merge cylinders\n",
    "cylinders = []\n",
    "for a, b in edges:\n",
    "    p1, p2 = np.array(positions[a]), np.array(positions[b])\n",
    "    direction = p2 - p1\n",
    "    length = np.linalg.norm(direction)\n",
    "    if length < 1e-6:\n",
    "        continue\n",
    "\n",
    "    radius = nodes[a].radius\n",
    "    cyl = trimesh.creation.cylinder(radius=radius, height=length*2, sections=40)\n",
    "    cyl.apply_translation([0, 0, length / 2])\n",
    "    T = trimesh.geometry.align_vectors([0, 0, 1], direction)\n",
    "    cyl.apply_transform(T)\n",
    "    cyl.apply_translation((p1 + p2) / 1)\n",
    "    cylinders.append(cyl)\n",
    "\n",
    "merged = trimesh.util.concatenate(cylinders)\n",
    "merged.update_faces(merged.unique_faces())\n",
    "merged.remove_unreferenced_vertices()\n",
    "merged.remove_duplicate_faces()\n",
    "merged.fill_holes()\n",
    "\n",
    "merged.rezero()\n",
    "\n",
    "# Compute bounding box center and size\n",
    "bounding_box = merged.bounds  # shape (2, 3): [min_xyz, max_xyz]\n",
    "center = merged.centroid\n",
    "size = np.linalg.norm(bounding_box[1] - bounding_box[0])\n",
    "\n",
    "# Update camera position to frame the neuron\n",
    "camera_distance = size * 0.5  # heuristic factor\n",
    "camera_position = center + np.array([camera_distance]*3)\n",
    "\n",
    "# Compute normals for smooth shading\n",
    "merged.vertex_normals  # triggers lazy computation\n",
    "\n",
    "# Create BufferGeometry with normals\n",
    "geometry = BufferGeometry(\n",
    "    attributes={\n",
    "        'position': BufferAttribute(array=np.array(merged.vertices, dtype=np.float32)),\n",
    "        'normal': BufferAttribute(array=np.array(merged.vertex_normals, dtype=np.float32)),\n",
    "        'index': BufferAttribute(array=np.array(merged.faces.flatten(), dtype=np.uint32))\n",
    "    }\n",
    ")\n",
    "\n",
    "material = MeshStandardMaterial(color='yellow', roughness=0.3, metalness=0.1)\n",
    "mesh = Mesh(geometry=geometry, material=material)\n",
    "\n",
    "# Add lighting and scene\n",
    "scene = Scene(children=[\n",
    "    mesh,\n",
    "    AmbientLight(intensity=0.25),\n",
    "    DirectionalLight(color='white', intensity=0.35, position=[5, 5, 5]),\n",
    "    DirectionalLight(color='white', intensity=0.3, position=[-5, -5, -5])\n",
    "], background='black')\n",
    "\n",
    "camera = PerspectiveCamera(position=camera_position.tolist(), fov=45)\n",
    "controls = OrbitControls(controlling=camera, target=center.tolist())\n",
    "renderer = Renderer(scene=scene, camera=camera, controls=[controls],\n",
    "                    width=400, height=400)\n",
    "\n",
    "display(renderer)\n"
   ]
  },
  {
   "cell_type": "code",
   "execution_count": null,
   "id": "be36780c",
   "metadata": {},
   "outputs": [],
   "source": []
  }
 ],
 "metadata": {
  "kernelspec": {
   "display_name": "Python 3 (ipykernel)",
   "language": "python",
   "name": "python3"
  },
  "language_info": {
   "codemirror_mode": {
    "name": "ipython",
    "version": 3
   },
   "file_extension": ".py",
   "mimetype": "text/x-python",
   "name": "python",
   "nbconvert_exporter": "python",
   "pygments_lexer": "ipython3",
   "version": "3.10.12"
  }
 },
 "nbformat": 4,
 "nbformat_minor": 5
}
