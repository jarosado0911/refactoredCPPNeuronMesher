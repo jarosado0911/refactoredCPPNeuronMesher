{
 "cells": [
  {
   "cell_type": "markdown",
   "id": "9ebd64bb",
   "metadata": {},
   "source": [
    "# Introduction\n",
    "\n",
    "- This is a Jupyter notebook demonstrating the capabilities of the `NeuronGraph` class\n",
    "- The `NeuronGraph` class is written in `C++` and Python bindings were implemented to expose the `C++` methods to Python\n",
    "- You may need to adjust the `sys.path.append(os.path.abspath(\"..\"))` call, this call was added so that we can write output to the output folder"
   ]
  },
  {
   "cell_type": "markdown",
   "id": "247d32a0",
   "metadata": {},
   "source": [
    "# 0. Import Modules\n",
    "- We import basic modules to this notebook\n",
    "- `sys`, `os` are for adjusting the system path variables\n",
    "- `trimesh` is used for the meshing and visualization we perform later\n",
    "- `numpy` is for handling arrays\n",
    "- `IPython.display` and `pythreejs` are used for visualizing the neuron\n",
    "- `neurongraph` is the `C++` class binded to Python"
   ]
  },
  {
   "cell_type": "code",
   "execution_count": 1,
   "id": "4b18f442",
   "metadata": {},
   "outputs": [],
   "source": [
    "import sys\n",
    "import os\n",
    "import trimesh\n",
    "import warnings\n",
    "import numpy as np\n",
    "\n",
    "# Add the absolute path one level up\n",
    "sys.path.append(os.path.abspath(\"..\"))\n",
    "warnings.filterwarnings('ignore')\n",
    "import neurongraph as ng\n",
    "from IPython.display import display\n",
    "from pythreejs import *"
   ]
  },
  {
   "cell_type": "markdown",
   "id": "68d20201",
   "metadata": {},
   "source": [
    "# 1. Instantiating NeuronGraph Class\n",
    "- In this part we show the various ways of initializing a variable and reading in a neuron\n",
    "- We also perform some print statements"
   ]
  },
  {
   "cell_type": "code",
   "execution_count": 2,
   "id": "7fb5c359",
   "metadata": {},
   "outputs": [
    {
     "name": "stdout",
     "output_type": "stream",
     "text": [
      "Empty Graph: Nodes: 0, Edges: 0\n",
      "Empty [SWC] Graph: Nodes: 505, Edges: 461\n",
      "\n",
      "Empty [UGX] Graph: Nodes: 505, Edges: 461\n",
      "\n",
      "Empty [UGX] Graph: Nodes: 505, Edges: 461\n"
     ]
    }
   ],
   "source": [
    "# initialize an empty neuron graph\n",
    "g = ng.NeuronGraph()\n",
    "print(f\"Empty Graph: Nodes: {g.numberOfNodes()}, Edges: {g.numberOfEdges()}\")\n",
    "\n",
    "# read in the .swc file\n",
    "g.readFromFile(\"../../data/neuron.swc\")\n",
    "print(f\"Empty [SWC] Graph: Nodes: {g.numberOfNodes()}, Edges: {g.numberOfEdges()}\")\n",
    "\n",
    "# read in the .ugx file\n",
    "g.readFromFileUGX(\"../../data/neuron.ugx\")\n",
    "print(f\"\\nEmpty [UGX] Graph: Nodes: {g.numberOfNodes()}, Edges: {g.numberOfEdges()}\")\n",
    "\n",
    "# we can initialize the neuron directly\n",
    "infile = \"../../data/neuron.ugx\"\n",
    "g = ng.NeuronGraph(infile)\n",
    "print(f\"\\nEmpty [UGX] Graph: Nodes: {g.numberOfNodes()}, Edges: {g.numberOfEdges()}\")\n"
   ]
  },
  {
   "cell_type": "markdown",
   "id": "5025e315",
   "metadata": {},
   "source": [
    "# 2. Checking, Setting, and Getting Functions\n",
    "- here we demonstrate how to use the getting and setting functions\n",
    "- we also show how to check the soma specification of the neuron\n",
    "- we also show how to preprocess the neuron\n",
    "- and we will demonstrate how to check the topology"
   ]
  },
  {
   "cell_type": "code",
   "execution_count": 3,
   "id": "c3fa5fdb",
   "metadata": {},
   "outputs": [
    {
     "name": "stdout",
     "output_type": "stream",
     "text": [
      "Has Soma Segment? True\n",
      "Graph: Nodes: 505, Edges: 461\n",
      "\n",
      "Neuron with soma segment removed.\n",
      "Graph: Nodes: 503, Edges: 461\n",
      "Is Soma missing? False\n",
      "Topologically Sorted? True\n"
     ]
    }
   ],
   "source": [
    "# we can initialize the neuron directly\n",
    "infile = \"../../data/neuron.swc\"\n",
    "g = ng.NeuronGraph(infile)\n",
    "print(f\"Has Soma Segment? {g.hasSomaSegment()}\")\n",
    "print(f\"Graph: Nodes: {g.numberOfNodes()}, Edges: {g.numberOfEdges()}\")\n",
    "\n",
    "# let us preprocess the neuron\n",
    "newg = g.preprocess(g.getNodes())\n",
    "g.setNodes(newg)\n",
    "print(\"\\nNeuron with soma segment removed.\")\n",
    "print(f\"Graph: Nodes: {g.numberOfNodes()}, Edges: {g.numberOfEdges()}\")\n",
    "print(f\"Is Soma missing? {g.isSomaMissing()}\")\n",
    "print(f\"Topologically Sorted? {g.isTopologicallySorted()}\")"
   ]
  },
  {
   "cell_type": "markdown",
   "id": "11dfda47",
   "metadata": {},
   "source": [
    "- We will demonstrate how to get the nodes and set the nodes\n",
    "- I show a for loop iterating through the dictionary items, I only show the first 5 items"
   ]
  },
  {
   "cell_type": "code",
   "execution_count": 4,
   "id": "d7c00133",
   "metadata": {},
   "outputs": [
    {
     "name": "stdout",
     "output_type": "stream",
     "text": [
      "1: (0.003,0.000,0.000)--Radius: 10.681\n",
      "2: (4.000,-10.030,-0.450)--Radius: 1.335\n",
      "3: (7.610,-14.970,-0.670)--Radius: 1.335\n",
      "4: (15.880,-17.330,11.160)--Radius: 0.760\n",
      "5: (18.470,-19.270,11.020)--Radius: 0.760\n",
      "\n",
      ".\n",
      ".\n",
      ".\n",
      "\n",
      "Empty Initialized\n",
      "Graph: Nodes: 503, Edges: 461\n",
      "\n",
      "Set Nodes\n",
      "Graph: Nodes: 503, Edges: 461\n"
     ]
    }
   ],
   "source": [
    "# the nodes are stored as a dictionary\n",
    "nodes = g.getNodes()\n",
    "for i,node in nodes.items():\n",
    "    print(f\"{node.id}: ({node.x:.3f},{node.y:.3f},{node.z:.3f})--Radius: {node.radius:.3f}\")\n",
    "    if i == 5: \n",
    "        print('\\n.'*3)\n",
    "        break\n",
    "\n",
    "# now let us set the nodes\n",
    "newg = ng.NeuronGraph()\n",
    "print(\"\\nEmpty Initialized\")\n",
    "print(f\"Graph: Nodes: {g.numberOfNodes()}, Edges: {g.numberOfEdges()}\")\n",
    "newg.setNodes(nodes)\n",
    "print(\"\\nSet Nodes\")\n",
    "print(f\"Graph: Nodes: {g.numberOfNodes()}, Edges: {g.numberOfEdges()}\")"
   ]
  },
  {
   "cell_type": "markdown",
   "id": "56bb383d",
   "metadata": {},
   "source": [
    "# 3. Getting Trunks and Trunk Map\n",
    "- The refinement process depends heavily on obtaining the trunks and trunk map\n",
    "- The trunks are defined to be the segment of neuron between consecutive branch points and branch/terminal points\n",
    "- the trunk map is a (parent,child) dictionary relating the trunks\n",
    "- We will also reassemble the trunks and save to an output file"
   ]
  },
  {
   "cell_type": "code",
   "execution_count": 5,
   "id": "1fadfa51",
   "metadata": {},
   "outputs": [
    {
     "name": "stdout",
     "output_type": "stream",
     "text": [
      "{key: value} = {TrunkID : TrunkParentID}\n",
      "{0: -1, 1: -1, 2: -1, 3: -1, 4: -1, 5: 0, 6: 0, 7: 5, 8: 5, 9: 6, 10: 6, 11: 10, 12: 10, 13: 12, 14: 12, 15: 13, 16: 13, 17: 14, 18: 14, 19: 10, 20: 10, 21: 1, 22: 1, 23: 22, 24: 22, 25: 24, 26: 24, 27: 26, 28: 26, 29: 28, 30: 28, 31: 22, 32: 22, 33: 2, 34: 2, 35: 34, 36: 34, 37: 36, 38: 36, 39: 3, 40: 3, 41: 4, 42: 4, 43: 41, 44: 41, 45: 43, 46: 43, 47: 46, 48: 46, 49: 47, 50: 47, 51: 49, 52: 49, 53: 48, 54: 48, 55: 53, 56: 53, 57: 46, 58: 46, 59: 57, 60: 57, 61: 44, 62: 44, 63: 61, 64: 61, 65: 62, 66: 62, 67: 65, 68: 65, 69: 67, 70: 67, 71: 69, 72: 69, 73: 66, 74: 66, 75: 73, 76: 73, 77: 74, 78: 74}\n"
     ]
    }
   ],
   "source": [
    "# we can initialize the neuron directly\n",
    "infile = \"../../data/neuron.swc\"\n",
    "g = ng.NeuronGraph(infile)\n",
    "preprocessed = g.preprocess(g.getNodes())\n",
    "g.setNodes(preprocessed)\n",
    "\n",
    "# this is how we get the trunks\n",
    "trunks = g.getTrunks(False)\n",
    "trunkParentMap = g.getTrunkParentMap(g.getNodes(),trunks)\n",
    "print(\"{key: value} = {TrunkID : TrunkParentID}\")\n",
    "print(trunkParentMap)"
   ]
  },
  {
   "cell_type": "code",
   "execution_count": 6,
   "id": "282218ca",
   "metadata": {},
   "outputs": [
    {
     "name": "stdout",
     "output_type": "stream",
     "text": [
      "Graph: Nodes: 503\n",
      "Read SWC ... ../../data/neuron.swc with 505 nodes.\n",
      "[UGX] Parsed 505 vertices.\n",
      "[UGX] Parsed diameter values.\n",
      "[UGX] Parsed 504 edges.\n",
      "Read UGX ... ../../data/neuron.ugx with 505 nodes and 461 parent entries.\n",
      "[UGX] Parsed 505 vertices.\n",
      "[UGX] Parsed diameter values.\n",
      "[UGX] Parsed 504 edges.\n",
      "Read UGX ... ../../data/neuron.ugx with 505 nodes and 461 parent entries.\n",
      "Read SWC ... ../../data/neuron.swc with 505 nodes.\n",
      "Read SWC ... ../../data/neuron.swc with 505 nodes.\n",
      "WriteSWC ...../output/test/nb_assemble.swc\n"
     ]
    }
   ],
   "source": [
    "# reassemble the neuron from the trunks\n",
    "nodes = g.assembleTrunks(trunks)\n",
    "print(f\"Graph: Nodes: {len(nodes)}\")\n",
    "g.writeToFile(nodes,\"../output/test/nb_assemble.swc\")"
   ]
  },
  {
   "cell_type": "code",
   "execution_count": 7,
   "id": "3c85a7ad",
   "metadata": {},
   "outputs": [
    {
     "name": "stdout",
     "output_type": "stream",
     "text": [
      "Graph: Nodes: 503\n",
      "WriteSWC ...../output/test/nb_assemble2.swc\n"
     ]
    }
   ],
   "source": [
    "# to reassemble the trunks when the indices are reset we need the trunk parent map\n",
    "# this is how we get the trunks\n",
    "trunks = g.getTrunks(True)\n",
    "nodes = g.assembleTrunks(trunks,trunkParentMap)\n",
    "print(f\"Graph: Nodes: {len(nodes)}\")\n",
    "g.writeToFile(nodes,\"../output/test/nb_assemble2.swc\")"
   ]
  },
  {
   "cell_type": "markdown",
   "id": "99aa6a66",
   "metadata": {},
   "source": [
    "# 4. Refining the Neuron Using Different Strategies\n",
    "- We will demonstrate three ways to refine the geometry\n",
    "  - splitting edges,\n",
    "  - linear resampling given $\\Delta$\n",
    "  - cubic resampling given $\\Delta$"
   ]
  },
  {
   "cell_type": "markdown",
   "id": "9e126a52",
   "metadata": {},
   "source": [
    "## 4.1 Splitting Edges\n",
    "- here we show how to split the edges once\n",
    "- then we show how to split the edges N time to produce a set containing N graph, \n",
    "- we also save each to an output file"
   ]
  },
  {
   "cell_type": "code",
   "execution_count": 8,
   "id": "3a733fc5",
   "metadata": {},
   "outputs": [
    {
     "name": "stdout",
     "output_type": "stream",
     "text": [
      "Graph: Nodes: 503\n",
      "Graph: Nodes: 1005\n",
      "Graph: Nodes: 503\n",
      "Graph: Nodes: 1005\n",
      "Graph: Nodes: 2009\n",
      "Graph: Nodes: 4017\n",
      "Read SWC ... ../../data/neuron.swc with 505 nodes.\n",
      "WriteSWC ...../output/test/nb_split.swc\n",
      "WriteSWC ...../output/test/nb_split0.swc\n",
      "WriteSWC ...../output/test/nb_split1.swc\n",
      "WriteSWC ...../output/test/nb_split2.swc\n",
      "Graph: Nodes: 8033\n",
      "WriteSWC ...../output/test/nb_split3.swc\n",
      "Done!\n"
     ]
    }
   ],
   "source": [
    "# First let us split the edges\n",
    "# ingest a neurong .swc file\n",
    "infile = \"../../data/neuron.swc\"\n",
    "g = ng.NeuronGraph(infile)\n",
    "\n",
    "# preprocess the neuron\n",
    "preprocessed = g.preprocess(g.getNodes())\n",
    "g.setNodes(preprocessed)\n",
    "\n",
    "# this is where we split the edges\n",
    "splitnodes = g.splitEdges()\n",
    "print(f\"Graph: Nodes: {g.numberOfNodes()}\")\n",
    "print(f\"Graph: Nodes: {len(splitnodes)}\")\n",
    "g.writeToFile(splitnodes,\"../output/test/nb_split.swc\")\n",
    "\n",
    "# we can specify how many splits N\n",
    "N = 4\n",
    "splitset = g.splitEdgesN(N)\n",
    "print(f\"Graph: Nodes: {g.numberOfNodes()}\")\n",
    "for i,splitnodes in enumerate(splitset):\n",
    "    print(f\"Graph: Nodes: {len(splitnodes)}\")\n",
    "    g.writeToFile(splitnodes,\"../output/test/nb_split\"+str(i)+\".swc\")\n",
    "print(\"Done!\")"
   ]
  },
  {
   "cell_type": "markdown",
   "id": "d80ad01e",
   "metadata": {},
   "source": [
    "## 4.2 Refinements Via Linear Resampling Trunks\n",
    "- We can produce refinements via linear resampling the trunks and then reassembling the trunks\n",
    "- we also show how to generate a set of geometries\n",
    "- we need to specify a $\\Delta$ and each refinement uses $\\Delta/2^i$ for the $i$th refinement\n",
    "- we also need to specify the number of refinements $N$ and the `method` is `linear`"
   ]
  },
  {
   "cell_type": "code",
   "execution_count": 9,
   "id": "b787e427",
   "metadata": {},
   "outputs": [
    {
     "name": "stdout",
     "output_type": "stream",
     "text": [
      "Graph: Nodes: 3138\n",
      "Graph: Nodes: 6345\n",
      "Graph: Nodes: 12765Read SWC ... ../../data/neuron.swc with 505 nodes.\n",
      "WriteSWC ...../output/test/nb_linear_refinement0.swc\n",
      "WriteSWC ...../output/test/nb_linear_refinement1.swc\n",
      "\n",
      "WriteSWC ...../output/test/nb_linear_refinement2.swc\n",
      "Graph: Nodes: 25616\n",
      "Done!\n",
      "WriteSWC ...../output/test/nb_linear_refinement3.swc\n"
     ]
    }
   ],
   "source": [
    "# First let us split the edges\n",
    "# ingest a neurong .swc file\n",
    "infile = \"../../data/neuron.swc\"\n",
    "g = ng.NeuronGraph(infile)\n",
    "\n",
    "# preprocess the neuron\n",
    "preprocessed = g.preprocess(g.getNodes())\n",
    "g.setNodes(preprocessed)\n",
    "\n",
    "delta, N, method = 2.0, 4, 'linear'\n",
    "refinements = g.generateRefinements(delta,N,method)\n",
    "\n",
    "for i,refinement in refinements.items():\n",
    "    print(f\"Graph: Nodes: {len(refinement)}\")\n",
    "    g.writeToFile(refinement,\"../output/test/nb_linear_refinement\"+str(i)+\".swc\")\n",
    "print(\"Done!\")"
   ]
  },
  {
   "cell_type": "markdown",
   "id": "1939079e",
   "metadata": {},
   "source": [
    "## 4.3 Refinements Via Cubic Resampling Trunks\n",
    "- We can produce refinements via cubic resampling the trunks and then reassembling the trunks\n",
    "- we also show how to generate a set of geometries\n",
    "- we need to specify a $\\Delta$ and each refinement uses $\\Delta/2^i$ for the $i$th refinement\n",
    "- we also need to specify the number of refinements $N$ and the `method` is `cubic`"
   ]
  },
  {
   "cell_type": "code",
   "execution_count": 10,
   "id": "9a813630",
   "metadata": {},
   "outputs": [
    {
     "name": "stdout",
     "output_type": "stream",
     "text": [
      "Graph: Nodes: 3138\n",
      "Graph: Nodes: 6345\n",
      "Read SWC ... ../../data/neuron.swc with 505 nodes.\n",
      "WriteSWC ...../output/test/nb_cubic_refinement0.swc\n",
      "WriteSWC ...../output/test/nb_cubic_refinement1.swc\n",
      "Graph: Nodes: 12765\n",
      "Graph: Nodes: 25616\n",
      "WriteSWC ...../output/test/nb_cubic_refinement2.swc\n",
      "Done!\n",
      "WriteSWC ...../output/test/nb_cubic_refinement3.swc\n"
     ]
    }
   ],
   "source": [
    "# First let us split the edges\n",
    "# ingest a neurong .swc file\n",
    "infile = \"../../data/neuron.swc\"\n",
    "g = ng.NeuronGraph(infile)\n",
    "\n",
    "# preprocess the neuron\n",
    "preprocessed = g.preprocess(g.getNodes())\n",
    "g.setNodes(preprocessed)\n",
    "\n",
    "delta, N, method = 2.0, 4, 'cubic'\n",
    "refinements = g.generateRefinements(delta,N,method)\n",
    "\n",
    "for i,refinement in refinements.items():\n",
    "    print(f\"Graph: Nodes: {len(refinement)}\")\n",
    "    g.writeToFile(refinement,\"../output/test/nb_cubic_refinement\"+str(i)+\".swc\")\n",
    "print(\"Done!\")"
   ]
  },
  {
   "cell_type": "markdown",
   "id": "7b531496",
   "metadata": {},
   "source": [
    "# (Optional) 5. Visualizing Neurons\n",
    "- In this section we are going to visualize the neuron\n",
    "- we will generate a viewing plot that we can rotate, zoom, and pan the neuron\n",
    "- We will follow our steps from the previous tutorial cells to load, preprocess, refine a neuron"
   ]
  },
  {
   "cell_type": "code",
   "execution_count": 11,
   "id": "03e0a9de",
   "metadata": {},
   "outputs": [],
   "source": [
    "# Load neuron\n",
    "infile = \"../../data/neuron.swc\"\n",
    "graph = ng.NeuronGraph(infile)\n",
    "\n",
    "# preprocess the neurong\n",
    "preprocessed = graph.preprocess(graph.getNodes())\n",
    "graph.setNodes(preprocessed)\n",
    "\n",
    "# refine the geomery\n",
    "delta, N, method = 2.0, 1, 'cubic'\n",
    "refinements = g.generateRefinements(delta,N,method)\n",
    "graph.setNodes(refinements[0])\n",
    "\n",
    "# get the nodes, and put the positions and edges in separate structures\n",
    "nodes = graph.getNodes()\n",
    "\n",
    "# a dictionary of positions (x,y,z)\n",
    "positions = {nid: (n.x, n.y, n.z) for nid, n in nodes.items()}\n",
    "\n",
    "# an array of tuples (node ID, node Parent ID)\n",
    "edges = [(n.id, n.pid) for n in nodes.values() if n.pid != -1]"
   ]
  },
  {
   "cell_type": "markdown",
   "id": "82ddc760",
   "metadata": {},
   "source": [
    "- initialize empty array of cylinder objects\n",
    "- iterate through the edges to construct the cylinders (each appended to our empty cylinder array)"
   ]
  },
  {
   "cell_type": "code",
   "execution_count": 12,
   "id": "be36780c",
   "metadata": {},
   "outputs": [],
   "source": [
    "# Build and merge cylinders\n",
    "cylinders = []\n",
    "\n",
    "# iterate through the edges, capturing the ID, PID = a, b\n",
    "for a, b in edges:\n",
    "    # assign the positions\n",
    "    p1, p2 = np.array(positions[a]), np.array(positions[b])\n",
    "    \n",
    "    # compute the edge direction\n",
    "    direction = p2 - p1\n",
    "    \n",
    "    # get the length of the edge\n",
    "    length = np.linalg.norm(direction)\n",
    "    if length < 1e-6:\n",
    "        continue\n",
    "    direction = direction/length\n",
    "    radius = nodes[a].radius\n",
    "    cyl = trimesh.creation.cylinder(radius=radius, height=length*2, sections=40)\n",
    "    cyl.apply_translation([0, 0, length / 2])\n",
    "    T = trimesh.geometry.align_vectors([0, 0, 1], direction)\n",
    "    cyl.apply_transform(T)\n",
    "    cyl.apply_translation((p1 + p2) / 1)\n",
    "    cylinders.append(cyl)"
   ]
  },
  {
   "cell_type": "markdown",
   "id": "65d0d3d6",
   "metadata": {},
   "source": [
    "- merge all cylinder meshes,\n",
    "- remove duplicates, remove holes\n",
    "- compute the bounding box to setup the camer distance and position"
   ]
  },
  {
   "cell_type": "code",
   "execution_count": 13,
   "id": "78b212d3",
   "metadata": {},
   "outputs": [],
   "source": [
    "merged = trimesh.util.concatenate(cylinders)\n",
    "merged.update_faces(merged.unique_faces())\n",
    "merged.remove_unreferenced_vertices()\n",
    "merged.remove_duplicate_faces()\n",
    "merged.fill_holes()\n",
    "merged.rezero()\n",
    "\n",
    "# Compute bounding box center and size\n",
    "bounding_box = merged.bounds  # shape (2, 3): [min_xyz, max_xyz]\n",
    "center = merged.centroid\n",
    "size = np.linalg.norm(bounding_box[1] - bounding_box[0])\n",
    "\n",
    "# Update camera position to frame the neuron\n",
    "camera_distance = size * 0.1  # heuristic factor\n",
    "camera_position = center + np.array([camera_distance]*3)\n",
    "\n",
    "# Compute normals for smooth shading\n",
    "merged.vertex_normals  # triggers lazy computation\n",
    "\n",
    "# Create BufferGeometry with normals\n",
    "geometry = BufferGeometry(\n",
    "    attributes={\n",
    "        'position': BufferAttribute(array=np.array(merged.vertices, dtype=np.float32)),\n",
    "        'normal': BufferAttribute(array=np.array(merged.vertex_normals, dtype=np.float32)),\n",
    "        'index': BufferAttribute(array=np.array(merged.faces.flatten(), dtype=np.uint32))\n",
    "    }\n",
    ")"
   ]
  },
  {
   "cell_type": "markdown",
   "id": "fac53e58",
   "metadata": {},
   "source": [
    "In this part we perform the following:\n",
    "  - define the material, \n",
    "  - generate the mesh from the geometry\n",
    "  - define the scene lighting and background\n",
    "  - set the camera position and perspective\n",
    "  - initialize our `render` variable \n",
    "  - display the rendered output"
   ]
  },
  {
   "cell_type": "code",
   "execution_count": 14,
   "id": "d0c438f8",
   "metadata": {},
   "outputs": [
    {
     "data": {
      "application/vnd.jupyter.widget-view+json": {
       "model_id": "f072919d66824ff997b10dd0282e2ee8",
       "version_major": 2,
       "version_minor": 0
      },
      "text/plain": [
       "Renderer(camera=PerspectiveCamera(fov=45.0, position=(577.9038292856453, 804.9691771259199, 315.9318356588843)…"
      ]
     },
     "metadata": {},
     "output_type": "display_data"
    }
   ],
   "source": [
    "material = MeshStandardMaterial(color='cyan', roughness=0.3, metalness=0.01)\n",
    "mesh = Mesh(geometry=geometry, material=material)\n",
    "\n",
    "# Add lighting and scene\n",
    "scene = Scene(children=[\n",
    "    mesh,\n",
    "    AmbientLight(intensity=0.25),\n",
    "    DirectionalLight(color='white', intensity=0.35, position=[5, 5, 5]),\n",
    "    DirectionalLight(color='white', intensity=0.3, position=[-5, -5, -5])\n",
    "], background='black')\n",
    "\n",
    "camera = PerspectiveCamera(position=camera_position.tolist(), fov=45)\n",
    "controls = OrbitControls(controlling=camera, target=center.tolist())\n",
    "renderer = Renderer(scene=scene, camera=camera, controls=[controls],\n",
    "                    width=400, height=400)\n",
    "\n",
    "display(renderer)"
   ]
  }
 ],
 "metadata": {
  "kernelspec": {
   "display_name": "Python 3 (ipykernel)",
   "language": "python",
   "name": "python3"
  },
  "language_info": {
   "codemirror_mode": {
    "name": "ipython",
    "version": 3
   },
   "file_extension": ".py",
   "mimetype": "text/x-python",
   "name": "python",
   "nbconvert_exporter": "python",
   "pygments_lexer": "ipython3",
   "version": "3.10.12"
  }
 },
 "nbformat": 4,
 "nbformat_minor": 5
}
